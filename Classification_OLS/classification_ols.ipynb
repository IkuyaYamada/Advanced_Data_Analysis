{
 "cells": [
  {
   "cell_type": "code",
   "execution_count": 6,
   "metadata": {},
   "outputs": [],
   "source": [
    "# 一対他法\n",
    "# モデルを9個作る\n",
    "import numpy as np \n",
    "from sklearn.linear_model import Ridge, LinearRegression\n",
    "from sklearn.metrics.pairwise import rbf_kernel\n",
    "import matplotlib.pyplot as plt\n",
    "from tqdm import tqdm_notebook as tqdm\n",
    "import time\n",
    "%matplotlib inline"
   ]
  },
  {
   "cell_type": "code",
   "execution_count": 7,
   "metadata": {},
   "outputs": [
    {
     "name": "stdout",
     "output_type": "stream",
     "text": [
      "(5000, 256)\n"
     ]
    }
   ],
   "source": [
    "# loading training set\n",
    "X_train = []\n",
    "\n",
    "for i in range(10):\n",
    "    X_train.append(np.loadtxt(\"digit/digit_train\"+str(i)+\".csv\", delimiter=\",\"))\n",
    "\n",
    "X_train = np.array(X_train, dtype=\"float64\")\n",
    "X_train = X_train.reshape(5000,256)\n",
    "print(X_train.shape)"
   ]
  },
  {
   "cell_type": "code",
   "execution_count": 8,
   "metadata": {},
   "outputs": [],
   "source": [
    "# Y_trainを9個作る。\n",
    "Y = []\n",
    "for i in range(10):\n",
    "    _ = [-1 for i in range(5000)]\n",
    "    _[i*500:i*500+500] = np.ones(500, dtype=int)\n",
    "    Y.append(_)\n",
    "Y = np.array(Y, dtype='float64')"
   ]
  },
  {
   "cell_type": "code",
   "execution_count": 9,
   "metadata": {},
   "outputs": [],
   "source": [
    "# Test Set\n",
    "X_test = []\n",
    "for i in range(10):\n",
    "    X_test.append(np.loadtxt(\"digit/digit_test\"+str(i)+\".csv\", delimiter=\",\"))\n",
    "X_test= np.array(X_test, dtype=\"float64\")\n",
    "X_test = X_test.reshape(2000, 256)\n",
    "\n",
    "Y_test = []\n",
    "for i in range(10):\n",
    "    m = i\n",
    "    _ = [m for i in range(200)]\n",
    "    Y_test.extend(_)\n",
    "Y_test = np.array(Y_test, dtype=\"float64\").reshape(-1,1)"
   ]
  },
  {
   "cell_type": "code",
   "execution_count": 10,
   "metadata": {},
   "outputs": [],
   "source": [
    "# Gausian Kernel Matrix\n",
    "def design_mat(x, c, h=10):\n",
    "    k = rbf_kernel(x, c, gamma=1/(2*(h**2)))\n",
    "    return k"
   ]
  },
  {
   "cell_type": "code",
   "execution_count": 11,
   "metadata": {},
   "outputs": [],
   "source": [
    "# Regression with Ridge\n",
    "# and predict\n",
    "# ‘cholesky’, 'saga’\n",
    "def ridge(*design_mat, Y_train, lamda=1):\n",
    "    k, k_test = design_mat\n",
    "    clf = Ridge(alpha=lamda, solver='cholesky')\n",
    "    clf.fit(k, Y_train)\n",
    "    p = clf.predict(k_test)\n",
    "    return p"
   ]
  },
  {
   "cell_type": "code",
   "execution_count": 20,
   "metadata": {},
   "outputs": [],
   "source": [
    "# Calculate design matrix\n",
    "k = design_mat(X_train, X_train)\n",
    "k_test = design_mat(X_test, X_train)"
   ]
  },
  {
   "cell_type": "code",
   "execution_count": 21,
   "metadata": {},
   "outputs": [
    {
     "data": {
      "application/vnd.jupyter.widget-view+json": {
       "model_id": "95030b1b517345cc9e45be866dff2940",
       "version_major": 2,
       "version_minor": 0
      },
      "text/plain": [
       "HBox(children=(IntProgress(value=0, max=10), HTML(value='')))"
      ]
     },
     "metadata": {},
     "output_type": "display_data"
    },
    {
     "name": "stdout",
     "output_type": "stream",
     "text": [
      "\n"
     ]
    }
   ],
   "source": [
    "predict = []\n",
    "# モデルを10個作成\n",
    "for i in tqdm(range(10)):\n",
    "    Y_train = Y[i].reshape(-1, 1)\n",
    "    _ = ridge(k, k_test, Y_train=Y_train)\n",
    "    predict.append(_)\n",
    "predict = np.array(predict)"
   ]
  },
  {
   "cell_type": "code",
   "execution_count": 22,
   "metadata": {},
   "outputs": [
    {
     "name": "stdout",
     "output_type": "stream",
     "text": [
      "Accuracy: 95.7%\n"
     ]
    }
   ],
   "source": [
    "# 1対他法によって0~9に変換\n",
    "predict_modified = np.array([np.argmax(predict[:, i]) for i in range(2000)]).reshape(-1,1)\n",
    "same_index = np.where(predict_modified==Y_test, True, False)\n",
    "mis_specified = np.where(same_index==False)[0]\n",
    "print(\"Accuracy: {}%\".format(*(sum(same_index)/len(Y_test))*100))"
   ]
  },
  {
   "cell_type": "code",
   "execution_count": 23,
   "metadata": {},
   "outputs": [
    {
     "name": "stdout",
     "output_type": "stream",
     "text": [
      "[ 936 1179 1063 1592]\n"
     ]
    },
    {
     "data": {
      "image/png": "[encoded data removed]",
      "text/plain": [
       "<Figure size 432x432 with 4 Axes>"
      ]
     },
     "metadata": {},
     "output_type": "display_data"
    }
   ],
   "source": [
    "#間違えたものを表示する\n",
    "# 画像確認\n",
    "mis_specified = np.random.choice(mis_specified, 4, replace=True)\n",
    "print(mis_specified)\n",
    "plt.figure(figsize=(6,6))\n",
    "for i,k in enumerate(mis_specified):\n",
    "    plt.subplot(2,2,i+1)\n",
    "    plt.xticks([])\n",
    "    plt.yticks([])\n",
    "    plt.title(\"Predict: {}  True: {}\".format(int(predict_modified[k]), int(Y_test[k])))\n",
    "    plt.imshow(X_test[k].reshape(16,16), cmap=\"gray\")\n",
    "plt.savefig(\"result.png\")\n",
    "plt.show()\n",
    "plt.close()"
   ]
  },
  {
   "cell_type": "code",
   "execution_count": 24,
   "metadata": {},
   "outputs": [],
   "source": [
    "# 正誤を反映したグラフ\n",
    "_ = np.where(predict_modified==Y_test, 10, 0)\n",
    "for i in range(2000):\n",
    "    if _[i] == 0:\n",
    "        _[i] = predict_modified[i]        \n",
    "confusion_matrix = np.zeros((10, 10), dtype=np.int64)\n",
    "for i in range(10):\n",
    "    list_ = []\n",
    "    range_ = _[i * 200 : i * 200 + 200]\n",
    "    for k in range(10):\n",
    "        a = np.sum(range_==k)\n",
    "        list_.append(int(a))\n",
    "    confusion_matrix[i, :] = list_\n",
    "    confusion_matrix[i, i] = int(sum(same_index[i * 200 : i * 200 + 200]))"
   ]
  },
  {
   "cell_type": "code",
   "execution_count": 25,
   "metadata": {},
   "outputs": [
    {
     "name": "stdout",
     "output_type": "stream",
     "text": [
      "     0    1    2    3    4    5    6    7    8    9\n",
      "0  196    0    1    0    0    0    3    0    0    0\n",
      "1    0  199    1    0    0    0    0    0    0    0\n",
      "2    0    0  191    0    6    0    0    2    1    0\n",
      "3    0    0    0  189    0    6    0    1    4    0\n",
      "4    0    1    0    0  186    0    4    0    1    8\n",
      "5    3    0    1    4    2  186    0    0    0    4\n",
      "6    1    0    2    0    1    2  194    0    0    0\n",
      "7    0    1    1    0    4    0    0  189    0    5\n",
      "8    1    0    1    3    0    1    0    0  192    2\n",
      "9    1    1    0    0    1    0    0    3    2  192\n"
     ]
    }
   ],
   "source": [
    "# to csv\n",
    "import pandas as pd\n",
    "confusion_matrix = pd.DataFrame(confusion_matrix)\n",
    "print(confusion_matrix)\n",
    "confusion_matrix.to_csv(\"confusion_matrix.csv\")"
   ]
  }
 ],
 "metadata": {
  "kernelspec": {
   "display_name": "Python 3",
   "language": "python",
   "name": "python3"
  },
  "language_info": {
   "codemirror_mode": {
    "name": "ipython",
    "version": 3
   },
   "file_extension": ".py",
   "mimetype": "text/x-python",
   "name": "python",
   "nbconvert_exporter": "python",
   "pygments_lexer": "ipython3",
   "version": "3.6.8"
  }
 },
 "nbformat": 4,
 "nbformat_minor": 2
}
